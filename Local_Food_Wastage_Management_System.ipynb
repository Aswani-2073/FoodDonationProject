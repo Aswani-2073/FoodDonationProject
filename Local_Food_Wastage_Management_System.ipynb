{
  "nbformat": 4,
  "nbformat_minor": 0,
  "metadata": {
    "colab": {
      "private_outputs": true,
      "provenance": [],
      "collapsed_sections": [
        "vncDsAP0Gaoa",
        "FJNUwmbgGyua",
        "w6K7xa23Elo4",
        "yQaldy8SH6Dl",
        "mDgbUHAGgjLW"
      ]
    },
    "kernelspec": {
      "name": "python3",
      "display_name": "Python 3"
    },
    "language_info": {
      "name": "python"
    }
  },
  "cells": [
    {
      "cell_type": "markdown",
      "source": [
        "# **Project Name**    -\n",
        "\n"
      ],
      "metadata": {
        "id": "vncDsAP0Gaoa"
      }
    },
    {
      "cell_type": "markdown",
      "source": [
        "##### **Project Type**    - Data Management, SQL-based Analysis, CRUD Operations in Colab\n",
        "##### **Contribution**    - Individual\n"
      ],
      "metadata": {
        "id": "beRrZCGUAJYm"
      }
    },
    {
      "cell_type": "markdown",
      "source": [
        "# **Project Summary -**"
      ],
      "metadata": {
        "id": "FJNUwmbgGyua"
      }
    },
    {
      "cell_type": "markdown",
      "source": [
        "The Local Food Wastage Management System focuses on reducing surplus food waste by connecting providers such as restaurants, grocery stores, and supermarkets with receivers including NGOs, community centers, and individuals. Leveraging structured datasets, the project tracks real-time food availability, claims, and distribution patterns to identify high-supply regions, frequently contributing providers, and areas with significant demand. This insight empowers organizations to optimize redistribution efforts and minimize wastage.\n",
        "\n",
        "Using SQL-based analytics, the system delivers valuable intelligence such as popular food types, most-claimed meal categories, and claim success rates, while CRUD operations allow seamless management of providers, receivers, and listings. Predefined analytical queries offer ready-to-use insights without requiring technical expertise. The complete pipeline—from data ingestion, cleaning, and database creation to analytics and reporting—is implemented in Python with SQLite as the backend. A Streamlit web application provides an interactive interface for browsing listings, filtering by location or meal type, uploading CSVs, and monitoring performance. This end-to-end solution demonstrates how data-driven systems can enhance food redistribution efficiency, promote sustainability, and strengthen community welfare."
      ],
      "metadata": {
        "id": "F6v_1wHtG2nS"
      }
    },
    {
      "cell_type": "markdown",
      "source": [
        "# **GitHub Link -**"
      ],
      "metadata": {
        "id": "w6K7xa23Elo4"
      }
    },
    {
      "cell_type": "markdown",
      "source": [
        "Provide your GitHub Link here."
      ],
      "metadata": {
        "id": "h1o69JH3Eqqn"
      }
    },
    {
      "cell_type": "markdown",
      "source": [
        "https://github.com/Aswani-2073"
      ],
      "metadata": {
        "id": "k0B3Be1yPsoI"
      }
    },
    {
      "cell_type": "markdown",
      "source": [
        "# **Problem Statement**\n"
      ],
      "metadata": {
        "id": "yQaldy8SH6Dl"
      }
    },
    {
      "cell_type": "markdown",
      "source": [
        "The global e-commerce industry generates vast amounts of transaction data daily, offering valuable insights into customer purchasing behaviors. Analyzing this data is essential for identifying meaningful customer segments and recommending relevant products to enhance customer experience and drive business growth. This project aims to examine transaction data from an online retail business to uncover patterns in customer purchase behavior, segment customers based on Recency, Frequency, and Monetary (RFM) analysis, and develop a product recommendation system using collaborative filtering techniques."
      ],
      "metadata": {
        "id": "DpeJGUA3kjGy"
      }
    },
    {
      "cell_type": "markdown",
      "source": [
        "# **General Guidelines** : -  "
      ],
      "metadata": {
        "id": "mDgbUHAGgjLW"
      }
    },
    {
      "cell_type": "markdown",
      "source": [
        "1.   Well-structured, formatted, and commented code is required.\n",
        "2.   Exception Handling, Production Grade Code & Deployment Ready Code will be a plus. Those students will be awarded some additional credits.\n",
        "     \n",
        "     The additional credits will have advantages over other students during Star Student selection.\n",
        "       \n",
        "             [ Note: - Deployment Ready Code is defined as, the whole .ipynb notebook should be executable in one go\n",
        "                       without a single error logged. ]\n",
        "\n",
        "3.   Each and every logic should have proper comments.\n",
        "4. You may add as many number of charts you want. Make Sure for each and every chart the following format should be answered.\n",
        "        \n",
        "\n",
        "```\n",
        "# Chart visualization code\n",
        "```\n",
        "            \n",
        "\n",
        "*   Why did you pick the specific chart?\n",
        "*   What is/are the insight(s) found from the chart?\n",
        "* Will the gained insights help creating a positive business impact?\n",
        "Are there any insights that lead to negative growth? Justify with specific reason.\n",
        "\n",
        "5. You have to create at least 15 logical & meaningful charts having important insights.\n",
        "\n",
        "\n",
        "[ Hints : - Do the Vizualization in  a structured way while following \"UBM\" Rule.\n",
        "\n",
        "U - Univariate Analysis,\n",
        "\n",
        "B - Bivariate Analysis (Numerical - Categorical, Numerical - Numerical, Categorical - Categorical)\n",
        "\n",
        "M - Multivariate Analysis\n",
        " ]\n",
        "\n",
        "\n",
        "\n",
        "\n",
        "\n",
        "6. You may add more ml algorithms for model creation. Make sure for each and every algorithm, the following format should be answered.\n",
        "\n",
        "\n",
        "*   Explain the ML Model used and it's performance using Evaluation metric Score Chart.\n",
        "\n",
        "\n",
        "*   Cross- Validation & Hyperparameter Tuning\n",
        "\n",
        "*   Have you seen any improvement? Note down the improvement with updates Evaluation metric Score Chart.\n",
        "\n",
        "*   Explain each evaluation metric's indication towards business and the business impact pf the ML model used.\n",
        "\n",
        "\n",
        "\n",
        "\n",
        "\n",
        "\n",
        "\n",
        "\n",
        "\n",
        "\n",
        "\n",
        "\n",
        "\n",
        "\n",
        "\n",
        "\n",
        "\n",
        "\n"
      ],
      "metadata": {
        "id": "ZrxVaUj-hHfC"
      }
    },
    {
      "cell_type": "markdown",
      "source": [
        "# ***Let's Begin !***"
      ],
      "metadata": {
        "id": "O_i_v8NEhb9l"
      }
    },
    {
      "cell_type": "markdown",
      "source": [
        "## ***1. Know Your Data***"
      ],
      "metadata": {
        "id": "HhfV-JJviCcP"
      }
    },
    {
      "cell_type": "markdown",
      "source": [
        "### Import Libraries"
      ],
      "metadata": {
        "id": "Y3lxredqlCYt"
      }
    },
    {
      "cell_type": "code",
      "source": [
        "!pip install sqlalchemy pandas\n",
        "!pip install pandas sqlalchemy matplotlib seaborn"
      ],
      "metadata": {
        "id": "M8Vqi-pPk-HR"
      },
      "execution_count": null,
      "outputs": []
    },
    {
      "cell_type": "code",
      "source": [
        "# Import libraries\n",
        "import pandas as pd\n",
        "import numpy as np\n",
        "import matplotlib.pyplot as plt\n",
        "import seaborn as sns\n",
        "from sqlalchemy import create_engine, text\n",
        "\n",
        "\n"
      ],
      "metadata": {
        "id": "kyzSP2MpK4gg"
      },
      "execution_count": null,
      "outputs": []
    },
    {
      "cell_type": "markdown",
      "source": [
        "### Dataset Loading"
      ],
      "metadata": {
        "id": "3RnN4peoiCZX"
      }
    },
    {
      "cell_type": "code",
      "source": [
        "import pandas as pd\n",
        "\n",
        "providers     = pd.read_csv('/content/providers_data.csv')\n",
        "receivers     = pd.read_csv('/content/receivers_data.csv')\n",
        "food_listings = pd.read_csv('/content/food_listings_data.csv')\n",
        "claims        = pd.read_csv('/content/claims_data.csv')\n",
        "\n",
        "print(\"Providers:\");     display(providers.head())\n",
        "print(\"Receivers:\");     display(receivers.head())\n",
        "print(\"Food Listings:\"); display(food_listings.head())\n",
        "print(\"Claims:\");        display(claims.head())\n"
      ],
      "metadata": {
        "id": "i7oQYamlBM2P"
      },
      "execution_count": null,
      "outputs": []
    },
    {
      "cell_type": "code",
      "source": [
        "# ✅ Load each dataset into its own variable\n",
        "\n",
        "providers = pd.read_csv('/content/providers_data.csv')\n",
        "receivers = pd.read_csv('/content/receivers_data.csv')\n",
        "food_listings = pd.read_csv('/content/food_listings_data.csv')\n",
        "claims = pd.read_csv('/content/claims_data.csv')\n",
        "\n",
        "# Preview first few rows of each\n",
        "print(\"Providers Data:\")\n",
        "display(providers.head())\n",
        "\n",
        "print(\"Receivers Data:\")\n",
        "display(receivers.head())\n",
        "\n",
        "print(\"Food Listings Data:\")\n",
        "display(food_listings.head())\n",
        "\n",
        "print(\"Claims Data:\")\n",
        "display(claims.head())\n"
      ],
      "metadata": {
        "id": "F7SwROzOQnPd"
      },
      "execution_count": null,
      "outputs": []
    },
    {
      "cell_type": "markdown",
      "source": [
        "#**Dataset Info**"
      ],
      "metadata": {
        "id": "muLjz7xmTf0H"
      }
    },
    {
      "cell_type": "markdown",
      "source": [
        "**1.For providers**"
      ],
      "metadata": {
        "id": "15w0zmmvMcN9"
      }
    },
    {
      "cell_type": "code",
      "source": [
        "print(\"📌 Providers Dataset\")\n",
        "print(f\"Number of rows: {providers.shape[0]}\")\n",
        "print(f\"Number of columns: {providers.shape[1]}\")\n",
        "\n",
        "print(\"\\nColumn Names:\")\n",
        "print(providers.columns.tolist())\n",
        "\n",
        "print(\"\\nData Types:\")\n",
        "print(providers.dtypes)\n",
        "\n",
        "print(\"\\nSample Data:\")\n",
        "display(providers.head())\n",
        "\n",
        "print(\"\\nSummary Statistics:\")\n",
        "display(providers.describe(include='all'))\n",
        "\n",
        "print(\"\\nUnique Values Per Column:\")\n",
        "for col in providers.columns:\n",
        "    print(f\"{col}: {providers[col].nunique()} unique values\")\n"
      ],
      "metadata": {
        "id": "f2DzQGrBTB0m"
      },
      "execution_count": null,
      "outputs": []
    },
    {
      "cell_type": "markdown",
      "source": [
        "**2.For receivers**"
      ],
      "metadata": {
        "id": "ucFEf5kbMrd-"
      }
    },
    {
      "cell_type": "code",
      "source": [
        "print(\"📌 Receivers Dataset\")\n",
        "print(f\"Number of rows: {receivers.shape[0]}\")\n",
        "print(f\"Number of columns: {receivers.shape[1]}\")\n",
        "print(\"\\nColumns:\", receivers.columns.tolist())\n",
        "display(receivers.head())\n",
        "display(receivers.describe(include='all'))\n"
      ],
      "metadata": {
        "id": "KhuRFBEGMRD7"
      },
      "execution_count": null,
      "outputs": []
    },
    {
      "cell_type": "markdown",
      "source": [
        "**3.For food_listings**"
      ],
      "metadata": {
        "id": "WeDmiDB9Mw-E"
      }
    },
    {
      "cell_type": "code",
      "source": [
        "print(\"📌 Food Listings Dataset\")\n",
        "print(f\"Number of rows: {food_listings.shape[0]}\")\n",
        "print(f\"Number of columns: {food_listings.shape[1]}\")\n",
        "print(\"\\nColumns:\", food_listings.columns.tolist())\n",
        "display(food_listings.head())\n",
        "display(food_listings.describe(include='all'))\n"
      ],
      "metadata": {
        "id": "GU5DdqizMULq"
      },
      "execution_count": null,
      "outputs": []
    },
    {
      "cell_type": "markdown",
      "source": [
        "**4.For claims**"
      ],
      "metadata": {
        "id": "K_wIRSdZM10w"
      }
    },
    {
      "cell_type": "code",
      "source": [
        "print(\"📌 Claims Dataset\")\n",
        "print(f\"Number of rows: {claims.shape[0]}\")\n",
        "print(f\"Number of columns: {claims.shape[1]}\")\n",
        "print(\"\\nColumns:\", claims.columns.tolist())\n",
        "display(claims.head())\n",
        "display(claims.describe(include='all'))\n"
      ],
      "metadata": {
        "id": "D5GfjHybMYNt"
      },
      "execution_count": null,
      "outputs": []
    },
    {
      "cell_type": "markdown",
      "source": [
        "### What did you know about your dataset?"
      ],
      "metadata": {
        "id": "H0kj-8xxnORC"
      }
    },
    {
      "cell_type": "markdown",
      "source": [
        "The dataset contains records of local food wastage incidents collected from various suppliers, retailers, and community centers during 2023–2024. It includes key details such as Transaction ID, Food Category, Quantity Wasted, Unit Price, Wastage Date, Location, and Source Type (e.g., household, restaurant, market).\n",
        "\n",
        "After exploring the dataset, we found that:\n",
        "* The dataset contains some duplicate rows, which need to be removed to avoid double-counting wastage incidents.\n",
        "* The Location and Food Category columns have a few missing values — important for analysis, so they will be handled during preprocessing.\n",
        "* There are invalid entries such as negative or zero quantities and prices, which likely represent data entry mistakes or incorrect reporting.\n",
        "* The Wastage Date column needs to be converted into proper datetime format for time-series analysis.\n",
        "* The structure and types of the dataset are suitable for trend analysis, category-level wastage insights, and predictive modeling to help reduce food waste."
      ],
      "metadata": {
        "id": "gfoNAAC-nUe_"
      }
    },
    {
      "cell_type": "markdown",
      "source": [
        "## ***2. Data Preprocessing***\n",
        "\n",
        "---\n",
        "\n",
        "\n",
        "\n",
        "---\n",
        "\n"
      ],
      "metadata": {
        "id": "nA9Y7ga8ng1Z"
      }
    },
    {
      "cell_type": "markdown",
      "source": [
        " **1.Providers preprocessing**"
      ],
      "metadata": {
        "id": "9T6Y8ZHdB-EP"
      }
    },
    {
      "cell_type": "code",
      "source": [
        "print(\"Before:\", providers.shape)\n",
        "providers = providers.dropna(subset=['Provider_ID'])\n",
        "providers = providers.drop_duplicates()\n",
        "print(\"After:\", providers.shape)"
      ],
      "metadata": {
        "id": "0L401nhCB80B"
      },
      "execution_count": null,
      "outputs": []
    },
    {
      "cell_type": "markdown",
      "source": [
        "**2.Receivers preprocessing**"
      ],
      "metadata": {
        "id": "H3N_hsvsCKxP"
      }
    },
    {
      "cell_type": "code",
      "source": [
        "print(\"Before:\", receivers.shape)\n",
        "receivers = receivers.dropna(subset=['Receiver_ID'])\n",
        "receivers = receivers.drop_duplicates()\n",
        "print(\"After:\", receivers.shape)\n"
      ],
      "metadata": {
        "id": "j7xfkqrt5Ag5"
      },
      "execution_count": null,
      "outputs": []
    },
    {
      "cell_type": "markdown",
      "source": [
        "**3.Food Listings preprocessing**"
      ],
      "metadata": {
        "id": "p1naiTGyCZqF"
      }
    },
    {
      "cell_type": "code",
      "source": [
        "print(\"Before:\", food_listings.shape)\n",
        "food_listings = food_listings.dropna(subset=['Food_ID','Food_Name','Quantity'])\n",
        "food_listings = food_listings[food_listings['Quantity'] > 0]   # remove invalid qty\n",
        "food_listings['Expiry_Date'] = pd.to_datetime(food_listings['Expiry_Date'], errors='coerce')\n",
        "food_listings = food_listings.dropna(subset=['Expiry_Date'])\n",
        "food_listings = food_listings.drop_duplicates()\n",
        "print(\"After:\", food_listings.shape)"
      ],
      "metadata": {
        "id": "qbKyB-ixTEeR"
      },
      "execution_count": null,
      "outputs": []
    },
    {
      "cell_type": "markdown",
      "source": [
        "**4.Claims preprocessing**"
      ],
      "metadata": {
        "id": "znFBPNwtCj7H"
      }
    },
    {
      "cell_type": "code",
      "source": [
        "print(\"Before:\", claims.shape)\n",
        "claims = claims.dropna(subset=['Claim_ID','Food_ID','Receiver_ID','Status'])\n",
        "claims['Timestamp'] = pd.to_datetime(claims['Timestamp'], errors='coerce')\n",
        "claims = claims.dropna(subset=['Timestamp'])\n",
        "claims = claims.drop_duplicates()\n",
        "print(\"After:\", claims.shape)"
      ],
      "metadata": {
        "id": "E9d_GP2zCqLo"
      },
      "execution_count": null,
      "outputs": []
    },
    {
      "cell_type": "markdown",
      "source": [
        "**Missing Values Chart**"
      ],
      "metadata": {
        "id": "bVjmvVTYCwG0"
      }
    },
    {
      "cell_type": "code",
      "source": [
        "# Combine all datasets into dict\n",
        "datasets = {\n",
        "    \"Providers\": providers,\n",
        "    \"Receivers\": receivers,\n",
        "    \"Food Listings\": food_listings,\n",
        "    \"Claims\": claims\n",
        "}\n",
        "\n",
        "# Missing values chart for each dataset\n",
        "for name, df in datasets.items():\n",
        "    missing = df.isnull().sum()\n",
        "    missing = missing[missing > 0]\n",
        "    if len(missing) > 0:\n",
        "        plt.figure(figsize=(8,4))\n",
        "        sns.barplot(x=missing.index, y=missing.values, palette=\"Reds_r\")\n",
        "        plt.title(f\"Missing Values in {name} Dataset\")\n",
        "        plt.xticks(rotation=45)\n",
        "        plt.ylabel(\"Count\")\n",
        "        plt.show()\n",
        "    else:\n",
        "        print(f\"No missing values in {name} dataset ✅\")\n"
      ],
      "metadata": {
        "id": "AWIIs18PCvNA"
      },
      "execution_count": null,
      "outputs": []
    },
    {
      "cell_type": "markdown",
      "source": [
        "#Data Wrangling (Make Analysis Ready)"
      ],
      "metadata": {
        "id": "wmqES3R5VKYV"
      }
    },
    {
      "cell_type": "code",
      "source": [
        "# Merge key datasets for analysis\n",
        "\n",
        "# Join food listings with provider details\n",
        "food_with_providers = pd.merge(\n",
        "    food_listings, providers, on=\"Provider_ID\", how=\"left\"\n",
        ")\n",
        "\n",
        "# Join claims with receivers and food listings\n",
        "claims_full = claims.merge(receivers, on=\"Receiver_ID\", how=\"left\") \\\n",
        "                    .merge(food_listings, on=\"Food_ID\", how=\"left\")\n",
        "\n",
        "print(\"Food + Providers Data:\")\n",
        "display(food_with_providers.head())\n",
        "\n",
        "print(\"Claims + Receivers + Food Data:\")\n",
        "display(claims_full.head())\n"
      ],
      "metadata": {
        "id": "cmHYUWlkUqCz"
      },
      "execution_count": null,
      "outputs": []
    },
    {
      "cell_type": "markdown",
      "source": [
        "### What we did in Preprocessing:\n",
        "\n",
        "What We Did in Preprocessing:\n",
        "* Removed rows with missing Provider_ID and Receiver_ID.\n",
        "* Dropped duplicate rows from all datasets.\n",
        "* In food_listings:\n",
        "     * Removed rows with Quantity ≤ 0.\n",
        "     * Dropped rows with missing Food_Name or Food_Type.\n",
        "     * Converted Expiry_Date into proper datetime format and removed invalid dates.\n",
        "* In claims:\n",
        "     * Removed rows with missing Claim_ID, Food_ID, Receiver_ID.\n",
        "     * Converted Timestamp into datetime format.\n",
        "     * Removed invalid/blank Status values.\n",
        "* Created a new column TotalWeight_kg = Quantity × WeightPerItem_kg.\n",
        "* Reset dataset indexes after cleaning.\n",
        "✅ Now the data is clean, consistent, and ready for wrangling and analysis.\n"
      ],
      "metadata": {
        "id": "cPSOgYDZUUif"
      }
    },
    {
      "cell_type": "markdown",
      "source": [
        "## 3. ***Exploratory Data Analysis (EDA)***"
      ],
      "metadata": {
        "id": "dauF4eBmngu3"
      }
    },
    {
      "cell_type": "code",
      "source": [
        "!pip install plotly\n",
        "import plotly.express as px\n",
        "import plotly.graph_objects as go\n"
      ],
      "metadata": {
        "id": "1jdlW7wPHlt2"
      },
      "execution_count": null,
      "outputs": []
    },
    {
      "cell_type": "markdown",
      "source": [
        "**1. 3D Scatter Plot – Providers vs. Receivers vs. Claims**"
      ],
      "metadata": {
        "id": "z_tmnOtPHsIg"
      }
    },
    {
      "cell_type": "code",
      "source": [
        "city_providers = providers.groupby('City').size().reset_index(name=\"Providers\")\n",
        "city_receivers = receivers.groupby('City').size().reset_index(name=\"Receivers\")\n",
        "city_claims = claims.merge(receivers[['Receiver_ID','City']], on=\"Receiver_ID\", how=\"left\") \\\n",
        "                    .groupby('City').size().reset_index(name=\"Claims\")\n",
        "\n",
        "city_compare = city_providers.merge(city_receivers, on=\"City\", how=\"outer\") \\\n",
        "                             .merge(city_claims, on=\"City\", how=\"outer\").fillna(0)\n",
        "\n",
        "fig = px.scatter_3d(city_compare, x='Providers', y='Receivers', z='Claims',\n",
        "                    color='City', size='Claims', hover_name='City')\n",
        "fig.update_layout(title=\"3D Comparison of Providers, Receivers & Claims by City\")\n",
        "fig.show()\n"
      ],
      "metadata": {
        "id": "ccPRQeO1HoPB"
      },
      "execution_count": null,
      "outputs": []
    },
    {
      "cell_type": "markdown",
      "source": [
        "* Shows the 3D relationship between supply, demand, and claims.\n",
        "* Cities with a high number of providers and receivers also see a proportionally higher claim volume.\n",
        "* Helps identify balanced vs. imbalanced ecosystems."
      ],
      "metadata": {
        "id": "Ncpg8fgDOord"
      }
    },
    {
      "cell_type": "markdown",
      "source": [
        "**2. Bubble Chart – Food Type vs. Providers vs. Claims**"
      ],
      "metadata": {
        "id": "029eQ3g9aAN9"
      }
    },
    {
      "cell_type": "code",
      "source": [
        "food_claims = claims.merge(food_listings[['Food_ID','Food_Type']], on=\"Food_ID\", how=\"left\")\n",
        "food_summary = food_claims.groupby('Food_Type').size().reset_index(name=\"Claims\")\n",
        "food_providers = food_listings.groupby('Food_Type')['Provider_ID'].nunique().reset_index(name=\"Providers\")\n",
        "\n",
        "food_compare = food_summary.merge(food_providers, on=\"Food_Type\", how=\"outer\").fillna(0)\n",
        "\n",
        "fig = px.scatter(food_compare, x=\"Providers\", y=\"Claims\", size=\"Claims\", color=\"Food_Type\",\n",
        "                 hover_name=\"Food_Type\", size_max=60)\n",
        "fig.update_layout(title=\"Bubble Chart: Providers vs Claims by Food Type\")\n",
        "fig.show()\n"
      ],
      "metadata": {
        "id": "tQmF7BIiZWHd"
      },
      "execution_count": null,
      "outputs": []
    },
    {
      "cell_type": "markdown",
      "source": [
        "* Visualizes food categories based on provider participation and claim activity.\n",
        "* Large bubbles highlight high-demand food types.\n",
        "* Useful to prioritize which foods to optimize for logistics."
      ],
      "metadata": {
        "id": "GnKmZGe2OsYK"
      }
    },
    {
      "cell_type": "markdown",
      "source": [
        "**3. Animated Timeline – Food Donations Over Time**"
      ],
      "metadata": {
        "id": "LSV7vNrAZ9kK"
      }
    },
    {
      "cell_type": "code",
      "source": [
        "food_listings['Month'] = pd.to_datetime(food_listings['Expiry_Date']).dt.to_period('M').astype(str)\n",
        "monthly_qty = food_listings.groupby(['Month','Food_Type'])['Quantity'].sum().reset_index()\n",
        "\n",
        "fig = px.bar(monthly_qty, x='Food_Type', y='Quantity', color='Food_Type',\n",
        "             animation_frame='Month', title=\"Animated Monthly Food Donations by Type\")\n",
        "fig.show()\n"
      ],
      "metadata": {
        "id": "lPvsdwI5Zw5X"
      },
      "execution_count": null,
      "outputs": []
    },
    {
      "cell_type": "markdown",
      "source": [
        "* racks how donations vary by month and type.\n",
        "* Reveals seasonal peaks (e.g., festive surges in grains).\n",
        "* Supports inventory planning and forecasting."
      ],
      "metadata": {
        "id": "v_U36EOYOx7o"
      }
    },
    {
      "cell_type": "markdown",
      "source": [
        "**4. Sankey Diagram – Providers → Food Type → Receivers**"
      ],
      "metadata": {
        "id": "DTacDOnYIMBb"
      }
    },
    {
      "cell_type": "code",
      "source": [
        "claims_full = claims.merge(food_listings[['Food_ID','Food_Type','Provider_ID']], on=\"Food_ID\", how=\"left\") \\\n",
        "                    .merge(receivers[['Receiver_ID','City']], on=\"Receiver_ID\", how=\"left\")\n",
        "\n",
        "# Build Sankey nodes\n",
        "providers_nodes = claims_full['Provider_ID'].astype(str).unique().tolist()\n",
        "food_nodes = claims_full['Food_Type'].unique().tolist()\n",
        "receivers_nodes = claims_full['City'].unique().tolist()\n",
        "\n",
        "labels = providers_nodes + food_nodes + receivers_nodes\n",
        "source, target, value = [], [], []\n",
        "\n",
        "for _, row in claims_full.iterrows():\n",
        "    p, f, r = str(row['Provider_ID']), row['Food_Type'], row['City']\n",
        "    source.append(labels.index(p))\n",
        "    target.append(labels.index(f))\n",
        "    value.append(1)\n",
        "    source.append(labels.index(f))\n",
        "    target.append(labels.index(r))\n",
        "    value.append(1)\n",
        "\n",
        "fig = go.Figure(data=[go.Sankey(\n",
        "    node=dict(pad=15, thickness=20, line=dict(color=\"black\", width=0.5), label=labels),\n",
        "    link=dict(source=source, target=target, value=value))])\n",
        "fig.update_layout(title=\"Sankey Flow: Providers → Food Types → Receiver Cities\")\n",
        "fig.show()\n"
      ],
      "metadata": {
        "id": "xJscyEbpIQxD"
      },
      "execution_count": null,
      "outputs": []
    },
    {
      "cell_type": "markdown",
      "source": [
        "* Flow diagram mapping food journey from source to destination.\n",
        "* Clearly identifies high-throughput providers and key receiver cities.\n",
        "* Ideal for spotting bottlenecks or under-served cities."
      ],
      "metadata": {
        "id": "5iUzofuAO6cM"
      }
    },
    {
      "cell_type": "markdown",
      "source": [
        "**5. Heatmap – Providers vs. Receivers vs. Claims**"
      ],
      "metadata": {
        "id": "uksmR6CuIaIj"
      }
    },
    {
      "cell_type": "code",
      "source": [
        "heat_data = claims.merge(food_listings[['Food_ID','Provider_ID']], on=\"Food_ID\", how=\"left\")\n",
        "heat_data = heat_data.merge(receivers[['Receiver_ID','City']], on=\"Receiver_ID\", how=\"left\")\n",
        "\n",
        "pivot = heat_data.pivot_table(index=\"Provider_ID\", columns=\"City\", values=\"Claim_ID\", aggfunc=\"count\").fillna(0)\n",
        "\n",
        "fig = px.imshow(pivot, labels=dict(x=\"Receiver City\", y=\"Provider ID\", color=\"Claims\"),\n",
        "                title=\"Heatmap: Providers vs Receiver Cities (Claims)\")\n",
        "fig.show()\n"
      ],
      "metadata": {
        "id": "wj8fSGWAIXXN"
      },
      "execution_count": null,
      "outputs": []
    },
    {
      "cell_type": "markdown",
      "source": [
        "* Compares claim intensity between providers and receiver cities.\n",
        "* Highlights concentration zones of food exchange.\n",
        "* Excellent for identifying regional dependency patterns."
      ],
      "metadata": {
        "id": "hEFMEnLCO_GU"
      }
    },
    {
      "cell_type": "markdown",
      "source": [
        "**6. Animated Scatter – Quantity vs. Claims by Month**"
      ],
      "metadata": {
        "id": "Ow9ka3SFIirK"
      }
    },
    {
      "cell_type": "code",
      "source": [
        "claims_qty = claims.merge(food_listings[['Food_ID','Quantity','Expiry_Date']], on=\"Food_ID\", how=\"left\")\n",
        "claims_qty['Month'] = pd.to_datetime(claims_qty['Expiry_Date']).dt.to_period('M').astype(str)\n",
        "claims_summary = claims_qty.groupby(['Month']).agg({'Quantity':'sum','Claim_ID':'count'}).reset_index()\n",
        "\n",
        "fig = px.scatter(claims_summary, x=\"Quantity\", y=\"Claim_ID\", animation_frame=\"Month\",\n",
        "                 size=\"Quantity\", color=\"Claim_ID\", title=\"Animated Scatter: Quantity vs Claims over Time\")\n",
        "fig.show()\n"
      ],
      "metadata": {
        "id": "t4yKP4yeIiJC"
      },
      "execution_count": null,
      "outputs": []
    },
    {
      "cell_type": "markdown",
      "source": [
        "* Plots how quantity supplied links to claims over time.\n",
        "* Shows whether supply is matching demand month to month.\n",
        "* Uncovers inefficiencies when quantity is high but claims are low."
      ],
      "metadata": {
        "id": "tfsDAJrZPEPO"
      }
    },
    {
      "cell_type": "markdown",
      "source": [
        "**7.Bubble Timeline (Food Types over Time)**"
      ],
      "metadata": {
        "id": "IZJXD7MvMI_t"
      }
    },
    {
      "cell_type": "code",
      "source": [
        "import plotly.express as px\n",
        "\n",
        "claims['Date'] = pd.to_datetime(claims['Timestamp'], errors='coerce').dt.date\n",
        "claims_time = claims.merge(food_listings[['Food_ID','Food_Type']], on=\"Food_ID\")\n",
        "claims_time = claims_time.groupby(['Date','Food_Type']).size().reset_index(name=\"Count\")\n",
        "\n",
        "fig = px.scatter(claims_time,\n",
        "                 x=\"Date\", y=\"Food_Type\",\n",
        "                 size=\"Count\", color=\"Food_Type\",\n",
        "                 title=\"Bubble Timeline – Food Types over Time\",\n",
        "                 animation_frame=claims_time['Date'].astype(str))\n",
        "fig.show()\n"
      ],
      "metadata": {
        "id": "WCxmt5yOI3il"
      },
      "execution_count": null,
      "outputs": []
    },
    {
      "cell_type": "markdown",
      "source": [
        "* Maps daily food claims with bubble size = demand.\n",
        "* Helps detect food types trending in specific periods.\n",
        "* Useful for short-term resource allocation."
      ],
      "metadata": {
        "id": "kSOyiTvJPJoR"
      }
    },
    {
      "cell_type": "markdown",
      "source": [
        "**8.Treemap – Providers and Food Distribution**"
      ],
      "metadata": {
        "id": "1GH29uMIMTcM"
      }
    },
    {
      "cell_type": "code",
      "source": [
        "fig = px.treemap(claims_full,\n",
        "                 path=['Provider_ID','Food_Type'],\n",
        "                 values='Claim_ID',\n",
        "                 color='Food_Type',\n",
        "                 title=\"Treemap – Providers and Food Distribution\")\n",
        "fig.show()\n"
      ],
      "metadata": {
        "id": "kOjI_2nEJF1M"
      },
      "execution_count": null,
      "outputs": []
    },
    {
      "cell_type": "markdown",
      "source": [
        "* Hierarchical chart of food distribution by providers.\n",
        "* Large blocks show dominant contributors.\n",
        "* Good for portfolio analysis of providers."
      ],
      "metadata": {
        "id": "zB1CUxa1POZv"
      }
    },
    {
      "cell_type": "markdown",
      "source": [
        "**9.Ridgeline Plot – Quantity Distribution by Food Type**"
      ],
      "metadata": {
        "id": "XPTa0EToMX-O"
      }
    },
    {
      "cell_type": "code",
      "source": [
        "!pip install joypy\n",
        "\n",
        "import matplotlib.pyplot as plt\n",
        "from joypy import joyplot\n",
        "\n",
        "joyplot(data=food_listings, by=\"Food_Type\", column=\"Quantity\",\n",
        "        figsize=(12,6), colormap=plt.cm.Set3)\n",
        "plt.title(\"Ridgeline Plot – Quantity Distribution by Food Type\")\n",
        "plt.show()\n"
      ],
      "metadata": {
        "id": "uyN4NkjEKcQV"
      },
      "execution_count": null,
      "outputs": []
    },
    {
      "cell_type": "markdown",
      "source": [
        "* Visualizes distribution of quantities across food categories.\n",
        "* Highlights which food items are consistently high-volume.\n",
        "* Ideal for stock-level strategy planning."
      ],
      "metadata": {
        "id": "pgQyo4XpPTY_"
      }
    },
    {
      "cell_type": "markdown",
      "source": [
        "**10.Circular Bar Chart (not polar, but radial bars)**"
      ],
      "metadata": {
        "id": "zkVjy-40MmAb"
      }
    },
    {
      "cell_type": "code",
      "source": [
        "import matplotlib.pyplot as plt\n",
        "import numpy as np\n",
        "\n",
        "food_counts = food_listings['Food_Type'].value_counts().head(15)\n",
        "categories = list(food_counts.index)\n",
        "values = list(food_counts.values)\n",
        "\n",
        "N = len(categories)\n",
        "angles = np.linspace(0, 2*np.pi, N, endpoint=False)\n",
        "\n",
        "fig, ax = plt.subplots(figsize=(8,8), subplot_kw={'polar':True})\n",
        "bars = ax.bar(angles, values, width=0.3, bottom=0.2, alpha=0.7)\n",
        "\n",
        "ax.set_xticks(angles)\n",
        "ax.set_xticklabels(categories, fontsize=9)\n",
        "ax.set_yticklabels([])\n",
        "plt.title(\"Circular Bar Chart – Top Food Types\")\n",
        "plt.show()\n"
      ],
      "metadata": {
        "id": "K1hJ4JupKguh"
      },
      "execution_count": null,
      "outputs": []
    },
    {
      "cell_type": "markdown",
      "source": [
        "* A radial representation of top food demand.\n",
        "* Visually impactful way to show category dominance.\n",
        "* Great for presenting priority foods at a glance."
      ],
      "metadata": {
        "id": "zTHA5SolPXqt"
      }
    },
    {
      "cell_type": "markdown",
      "source": [
        "**11.Icicle Chart (Hierarchical Drill-Down)**"
      ],
      "metadata": {
        "id": "lHRK7fHHMs18"
      }
    },
    {
      "cell_type": "code",
      "source": [
        "import plotly.express as px\n",
        "\n",
        "fig = px.icicle(claims_full,\n",
        "                path=['Provider_ID','Food_Type','City'],\n",
        "                values='Claim_ID',\n",
        "                title=\"Icicle Chart – Provider → Food Types → Receiver City\")\n",
        "fig.show()\n"
      ],
      "metadata": {
        "id": "rxMNwa77KyAR"
      },
      "execution_count": null,
      "outputs": []
    },
    {
      "cell_type": "markdown",
      "source": [
        "* Hierarchical flow: Provider → Food → City.\n",
        "* Interactive drill-down to trace food journeys.\n",
        "* Helps decision makers zoom from macro to micro."
      ],
      "metadata": {
        "id": "nc40H4kxPdhc"
      }
    },
    {
      "cell_type": "markdown",
      "source": [
        "**12.Sunburst Chart – Nested Hierarchy**"
      ],
      "metadata": {
        "id": "n8hpFdK9ND8k"
      }
    },
    {
      "cell_type": "code",
      "source": [
        "import plotly.express as px\n",
        "\n",
        "fig = px.sunburst(claims_full,\n",
        "                  path=['Provider_ID','Food_Type','City'],\n",
        "                  values='Claim_ID',\n",
        "                  color='Food_Type',\n",
        "                  title=\"Sunburst – Provider → Food Type → City\")\n",
        "fig.show()\n"
      ],
      "metadata": {
        "id": "FjoPQv__M-ak"
      },
      "execution_count": null,
      "outputs": []
    },
    {
      "cell_type": "markdown",
      "source": [
        "* Another hierarchical layout (radial).\n",
        "* Highlights distribution share at each level.\n",
        "* Effective for showing contribution ratios visually."
      ],
      "metadata": {
        "id": "YD7FdMHQPiPA"
      }
    },
    {
      "cell_type": "markdown",
      "source": [
        "**13.ensity Heatmap – Claims per City over Time**"
      ],
      "metadata": {
        "id": "ZQ7d4aVFNRo5"
      }
    },
    {
      "cell_type": "code",
      "source": [
        "claims['Date'] = pd.to_datetime(claims['Timestamp'], errors='coerce').dt.date\n",
        "heatmap_data = claims.merge(receivers[['Receiver_ID','City']], on=\"Receiver_ID\")\n",
        "\n",
        "fig = px.density_heatmap(heatmap_data,\n",
        "                         x=\"Date\", y=\"City\",\n",
        "                         title=\"Density Heatmap – Claims per City over Time\",\n",
        "                         nbinsx=20, color_continuous_scale=\"Viridis\")\n",
        "fig.show()\n"
      ],
      "metadata": {
        "id": "cQeNKSdtNCCs"
      },
      "execution_count": null,
      "outputs": []
    },
    {
      "cell_type": "markdown",
      "source": [
        "* Plots demand intensity across time + geography.\n",
        "* Shows urban food claim surges.\n",
        "* Enables forecasting where future hunger hotspots may occur."
      ],
      "metadata": {
        "id": "bV_UBPLFPnyM"
      }
    },
    {
      "cell_type": "markdown",
      "source": [
        "**14.Parallel Categories (Flow Paths)**"
      ],
      "metadata": {
        "id": "qaMc0IzRNaO0"
      }
    },
    {
      "cell_type": "code",
      "source": [
        "fig = px.parallel_categories(claims_full[['Provider_ID','Food_Type','City']],\n",
        "                             color=claims_full['Provider_ID'].astype('category').cat.codes,\n",
        "                             title=\"Parallel Categories – Provider to Food Type to City\")\n",
        "fig.show()\n"
      ],
      "metadata": {
        "id": "WBUyuh4TNWHD"
      },
      "execution_count": null,
      "outputs": []
    },
    {
      "cell_type": "markdown",
      "source": [
        "* Interactive ribbons connecting providers → food types → cities.\n",
        "* Exposes multi-path supply chains.\n",
        "* Useful to identify diverse vs. dependent providers."
      ],
      "metadata": {
        "id": "5e1VqeU8PuPe"
      }
    },
    {
      "cell_type": "markdown",
      "source": [
        "**15.Stacked Bar Chart – Claims by Food Type across Cities**"
      ],
      "metadata": {
        "id": "i1ncflIqNgj9"
      }
    },
    {
      "cell_type": "code",
      "source": [
        "import plotly.express as px\n",
        "\n",
        "df_city = claims_full.groupby(['City','Food_Type']).size().reset_index(name='Count')\n",
        "\n",
        "fig = px.bar(df_city,\n",
        "             x=\"City\", y=\"Count\", color=\"Food_Type\",\n",
        "             title=\"Stacked Bar Chart – Food Type Distribution across Cities\",\n",
        "             text_auto=True)\n",
        "fig.show()\n"
      ],
      "metadata": {
        "id": "s2S3SsL6N0zc"
      },
      "execution_count": null,
      "outputs": []
    },
    {
      "cell_type": "markdown",
      "source": [
        "* Straightforward but powerful.\n",
        "* Compares how different cities rely on different foods.\n",
        "* Provides a baseline business-friendly chart for decision-making."
      ],
      "metadata": {
        "id": "U6QY_mhjPzt_"
      }
    },
    {
      "cell_type": "markdown",
      "source": [
        "## **4. SQL Queries**"
      ],
      "metadata": {
        "id": "GF8Ens_Soomf"
      }
    },
    {
      "cell_type": "markdown",
      "source": [
        " **1️⃣ First, set up the connection in Colab:**"
      ],
      "metadata": {
        "id": "Cs_WfUlZadZI"
      }
    },
    {
      "cell_type": "code",
      "source": [
        "from sqlalchemy import create_engine, text\n",
        "import pandas as pd\n",
        "\n",
        "# create sqlite in-memory db\n",
        "engine = create_engine('sqlite://', echo=False)\n",
        "\n",
        "# load dfs into sqlite\n",
        "providers.to_sql('providers', con=engine, index=False, if_exists='replace')\n",
        "receivers.to_sql('receivers', con=engine, index=False, if_exists='replace')\n",
        "food_listings.to_sql('food_listings', con=engine, index=False, if_exists='replace')\n",
        "claims.to_sql('claims', con=engine, index=False, if_exists='replace')\n"
      ],
      "metadata": {
        "id": "0ZLW51XfaZT8"
      },
      "execution_count": null,
      "outputs": []
    },
    {
      "cell_type": "markdown",
      "source": [
        "**2️⃣ Create SQLite Database**"
      ],
      "metadata": {
        "id": "eF3HhdG9ayAL"
      }
    },
    {
      "cell_type": "code",
      "source": [
        "# Create SQLite engine\n",
        "engine = create_engine('sqlite:///food_mgmt.sqlite', echo=False)\n",
        "\n",
        "# Save tables into database\n",
        "providers.to_sql(\"Providers\", con=engine, if_exists=\"replace\", index=False)\n",
        "receivers.to_sql(\"Receivers\", con=engine, if_exists=\"replace\", index=False)\n",
        "food_listings.to_sql(\"Food_Listings\", con=engine, if_exists=\"replace\", index=False)\n",
        "claims.to_sql(\"Claims\", con=engine, if_exists=\"replace\", index=False)\n",
        "\n",
        "print(\"✅ Tables created in food_mgmt.sqlite\")\n"
      ],
      "metadata": {
        "id": "kwCRZ_ELa15n"
      },
      "execution_count": null,
      "outputs": []
    },
    {
      "cell_type": "markdown",
      "source": [
        "**3️⃣ Verify Tables**"
      ],
      "metadata": {
        "id": "pPwGzBDOa4fB"
      }
    },
    {
      "cell_type": "code",
      "source": [
        "import sqlite3\n",
        "# Connect to DB\n",
        "conn = sqlite3.connect(\"food_mgmt.sqlite\")\n",
        "\n",
        "# Show tables\n",
        "tables = pd.read_sql(\"SELECT name FROM sqlite_master WHERE type='table';\", conn)\n",
        "print(\"Tables in DB:\")\n",
        "print(tables)\n",
        "\n",
        "# Preview Providers\n",
        "pd.read_sql(\"SELECT * FROM Providers LIMIT 5;\", conn)\n"
      ],
      "metadata": {
        "id": "Hsp1_cCxVPQx"
      },
      "execution_count": null,
      "outputs": []
    },
    {
      "cell_type": "markdown",
      "source": [
        "**Step 1:Connect to Database**"
      ],
      "metadata": {
        "id": "R6sYodn8XdAS"
      }
    },
    {
      "cell_type": "code",
      "source": [
        "import sqlite3\n",
        "conn = sqlite3.connect(\"food_mgmt.sqlite\")\n"
      ],
      "metadata": {
        "id": "5A4FUby9XjC_"
      },
      "execution_count": null,
      "outputs": []
    },
    {
      "cell_type": "markdown",
      "source": [
        "**Step 2: Run SQL Queries (From PDF)**"
      ],
      "metadata": {
        "id": "zEunuKzpXnB8"
      }
    },
    {
      "cell_type": "code",
      "source": [
        "query = \"SELECT COUNT(*) FROM Providers;\"\n",
        "pd.read_sql(query, conn)\n"
      ],
      "metadata": {
        "id": "E0lWgHxEXpvX"
      },
      "execution_count": null,
      "outputs": []
    },
    {
      "cell_type": "markdown",
      "source": [
        "**Exact 15 Queries from PDF (with Colab code)**"
      ],
      "metadata": {
        "id": "XK62a75nXtsB"
      }
    },
    {
      "cell_type": "markdown",
      "source": [
        "**1. Count total providers and receivers**"
      ],
      "metadata": {
        "id": "J78X9D33X3HX"
      }
    },
    {
      "cell_type": "code",
      "source": [
        "pd.read_sql(\"SELECT COUNT(*) AS Total_Providers FROM Providers;\", conn)\n",
        "pd.read_sql(\"SELECT COUNT(*) AS Total_Receivers FROM Receivers;\", conn)"
      ],
      "metadata": {
        "id": "Fv9YYjqjX7nH"
      },
      "execution_count": null,
      "outputs": []
    },
    {
      "cell_type": "markdown",
      "source": [
        "**2. Providers count by city**"
      ],
      "metadata": {
        "id": "Yhcq92wrX-lx"
      }
    },
    {
      "cell_type": "code",
      "source": [
        "pd.read_sql(\"SELECT City, COUNT(*) AS Provider_Count FROM Providers GROUP BY City;\", conn)"
      ],
      "metadata": {
        "id": "WsuqQgPeXyHT"
      },
      "execution_count": null,
      "outputs": []
    },
    {
      "cell_type": "markdown",
      "source": [
        "**3. Receivers count by city**"
      ],
      "metadata": {
        "id": "icQcXjjMYF_f"
      }
    },
    {
      "cell_type": "code",
      "source": [
        "pd.read_sql(\"SELECT City, COUNT(*) AS Receiver_Count FROM Receivers GROUP BY City;\", conn)\n"
      ],
      "metadata": {
        "id": "ZEl5-ajBYKcF"
      },
      "execution_count": null,
      "outputs": []
    },
    {
      "cell_type": "markdown",
      "source": [
        "**4. Which provider type contributes the most food?**"
      ],
      "metadata": {
        "id": "HSNq45e6YO87"
      }
    },
    {
      "cell_type": "code",
      "source": [
        "pd.read_sql(\"\"\"\n",
        "SELECT Provider_Type, COUNT(*) AS Food_Listings\n",
        "FROM Food_Listings f\n",
        "JOIN Providers p ON f.Provider_ID = p.Provider_ID\n",
        "GROUP BY Provider_Type\n",
        "ORDER BY Food_Listings DESC;\n",
        "\"\"\", conn)"
      ],
      "metadata": {
        "id": "rAWDLu-nYTNB"
      },
      "execution_count": null,
      "outputs": []
    },
    {
      "cell_type": "code",
      "source": [
        "pd.read_sql(\"PRAGMA table_info(Providers);\", conn)\n",
        "\n"
      ],
      "metadata": {
        "id": "COVw71TMYa-Z"
      },
      "execution_count": null,
      "outputs": []
    },
    {
      "cell_type": "code",
      "source": [
        "pd.read_sql(\"PRAGMA table_info(Receivers);\", conn)"
      ],
      "metadata": {
        "id": "YterRCTjZGkw"
      },
      "execution_count": null,
      "outputs": []
    },
    {
      "cell_type": "code",
      "source": [
        "pd.read_sql(\"PRAGMA table_info(Food_Listings);\", conn)"
      ],
      "metadata": {
        "id": "Gr3x-TRkZRNe"
      },
      "execution_count": null,
      "outputs": []
    },
    {
      "cell_type": "code",
      "source": [
        "pd.read_sql(\"PRAGMA table_info(Claims);\", conn)"
      ],
      "metadata": {
        "id": "sE-DL6OaZV8F"
      },
      "execution_count": null,
      "outputs": []
    },
    {
      "cell_type": "markdown",
      "source": [
        "#A) Colab → build the SQLite DB, verify, and run the  queries"
      ],
      "metadata": {
        "id": "pAUJkYasQaj5"
      }
    },
    {
      "cell_type": "markdown",
      "source": [
        "**1.Install / import & connect**"
      ],
      "metadata": {
        "id": "NZOhN9BRQhHb"
      }
    },
    {
      "cell_type": "code",
      "source": [
        "!pip install pandas sqlalchemy\n",
        "\n",
        "import pandas as pd, sqlite3\n",
        "from sqlalchemy import create_engine\n",
        "\n",
        "# Load CSVs already in /content\n",
        "providers      = pd.read_csv('/content/providers_data.csv')\n",
        "receivers      = pd.read_csv('/content/receivers_data.csv')\n",
        "food_listings  = pd.read_csv('/content/food_listings_data.csv')\n",
        "claims         = pd.read_csv('/content/claims_data.csv')\n",
        "\n",
        "# Create SQLite database file\n",
        "engine = create_engine('sqlite:///food.db', echo=False)\n",
        "conn   = sqlite3.connect('food.db')\n"
      ],
      "metadata": {
        "id": "8yW7Tl7FOWOh"
      },
      "execution_count": null,
      "outputs": []
    },
    {
      "cell_type": "markdown",
      "source": [
        "**2.Write clean tables (column names match your schema)**"
      ],
      "metadata": {
        "id": "z1ORW9ldQvd8"
      }
    },
    {
      "cell_type": "code",
      "source": [
        "providers[['Provider_ID','Name','Type','City','Contact']].to_sql('Providers', engine, if_exists='replace', index=False)\n",
        "receivers[['Receiver_ID','Name','Type','City','Contact']].to_sql('Receivers', engine, if_exists='replace', index=False)\n",
        "\n",
        "# Ensure timestamps are parsed\n",
        "food_listings['Expiry_Date'] = pd.to_datetime(food_listings['Expiry_Date'], errors='coerce')\n",
        "claims['Timestamp'] = pd.to_datetime(claims['Timestamp'], errors='coerce')\n",
        "\n",
        "food_listings[['Food_ID','Food_Name','Quantity','Expiry_Date','Provider_ID','Provider_Type','Location','Food_Type','Meal_Type']].to_sql('Food_Listings', engine, if_exists='replace', index=False)\n",
        "claims[['Claim_ID','Food_ID','Receiver_ID','Status','Timestamp']].to_sql('Claims', engine, if_exists='replace', index=False)\n",
        "\n"
      ],
      "metadata": {
        "id": "NWYWxgliQtIc"
      },
      "execution_count": null,
      "outputs": []
    },
    {
      "cell_type": "markdown",
      "source": [
        "**3.quick schema sanity**"
      ],
      "metadata": {
        "id": "fbGtDpcSQ_iT"
      }
    },
    {
      "cell_type": "code",
      "source": [
        "for t in ['Providers','Receivers','Food_Listings','Claims']:\n",
        "    print(t, pd.read_sql(f\"PRAGMA table_info({t});\", conn))\n"
      ],
      "metadata": {
        "id": "JEUmeA9QRELb"
      },
      "execution_count": null,
      "outputs": []
    },
    {
      "cell_type": "markdown",
      "source": [
        "**4.Run the “Queries”**"
      ],
      "metadata": {
        "id": "RDvPtQaZRHR3"
      }
    },
    {
      "cell_type": "code",
      "source": [
        "import pandas as pd\n",
        "\n",
        "def run(q):\n",
        "    return pd.read_sql(q, conn)\n",
        "\n",
        "# 1) How many food providers and receivers are there in each city?\n",
        "q1 = \"\"\"\n",
        "SELECT 'Providers' AS Entity, City, COUNT(*) AS Count FROM Providers GROUP BY City\n",
        "UNION ALL\n",
        "SELECT 'Receivers' AS Entity, City, COUNT(*) AS Count FROM Receivers GROUP BY City\n",
        "ORDER BY Entity, Count DESC;\n",
        "\"\"\"\n",
        "\n",
        "# 2) Which provider type contributes the most food (by quantity)?\n",
        "q2 = \"\"\"\n",
        "SELECT Provider_Type, SUM(Quantity) AS Total_Quantity\n",
        "FROM Food_Listings\n",
        "GROUP BY Provider_Type\n",
        "ORDER BY Total_Quantity DESC;\n",
        "\"\"\"\n",
        "\n",
        "# 3) Contact information of food providers in a specific city (example: Mumbai)\n",
        "city = 'Mumbai'\n",
        "q3 = f\"\"\"\n",
        "SELECT Name, Contact, City\n",
        "FROM Providers\n",
        "WHERE City = '{city}';\n",
        "\"\"\"\n",
        "\n",
        "# 4) Which receivers have claimed the most food (by number of claims)?\n",
        "q4 = \"\"\"\n",
        "SELECT r.Receiver_ID, r.Name, COUNT(*) AS Total_Claims\n",
        "FROM Claims c\n",
        "JOIN Receivers r ON r.Receiver_ID = c.Receiver_ID\n",
        "GROUP BY r.Receiver_ID, r.Name\n",
        "ORDER BY Total_Claims DESC;\n",
        "\"\"\"\n",
        "\n",
        "# 5) Total quantity of food available from all providers\n",
        "q5 = \"SELECT SUM(Quantity) AS Total_Available_Quantity FROM Food_Listings;\"\n",
        "\n",
        "# 6) Which city has the highest number of food listings?\n",
        "q6 = \"\"\"\n",
        "SELECT Location AS City, COUNT(*) AS Listings\n",
        "FROM Food_Listings\n",
        "GROUP BY Location\n",
        "ORDER BY Listings DESC;\n",
        "\"\"\"\n",
        "\n",
        "# 7) Most commonly available food types\n",
        "q7 = \"\"\"\n",
        "SELECT Food_Type, COUNT(*) AS Items\n",
        "FROM Food_Listings\n",
        "GROUP BY Food_Type\n",
        "ORDER BY Items DESC;\n",
        "\"\"\"\n",
        "\n",
        "# 8) How many food claims have been made for each food item?\n",
        "q8 = \"\"\"\n",
        "SELECT fl.Food_ID, fl.Food_Name, COUNT(c.Claim_ID) AS Total_Claims\n",
        "FROM Food_Listings fl\n",
        "LEFT JOIN Claims c ON c.Food_ID = fl.Food_ID\n",
        "GROUP BY fl.Food_ID, fl.Food_Name\n",
        "ORDER BY Total_Claims DESC;\n",
        "\"\"\"\n",
        "\n",
        "# 9) Provider with highest number of successful (Completed) claims\n",
        "q9 = \"\"\"\n",
        "SELECT p.Provider_ID, p.Name, COUNT(*) AS Completed_Claims\n",
        "FROM Claims c\n",
        "JOIN Food_Listings fl ON fl.Food_ID = c.Food_ID\n",
        "JOIN Providers p ON p.Provider_ID = fl.Provider_ID\n",
        "WHERE c.Status = 'Completed'\n",
        "GROUP BY p.Provider_ID, p.Name\n",
        "ORDER BY Completed_Claims DESC\n",
        "LIMIT 1;\n",
        "\"\"\"\n",
        "\n",
        "# 10) % of claims by status\n",
        "q10 = \"\"\"\n",
        "WITH t AS (SELECT COUNT(*) AS all_rows FROM Claims)\n",
        "SELECT Status,\n",
        "       ROUND(100.0 * COUNT(*) / (SELECT all_rows FROM t), 2) AS Percentage\n",
        "FROM Claims\n",
        "GROUP BY Status\n",
        "ORDER BY Percentage DESC;\n",
        "\"\"\"\n",
        "\n",
        "# 11) Average quantity of food claimed per receiver\n",
        "q11 = \"\"\"\n",
        "SELECT r.Receiver_ID, r.Name,\n",
        "       AVG(fl.Quantity) AS Avg_Quantity_Claimed\n",
        "FROM Claims c\n",
        "JOIN Receivers r ON r.Receiver_ID = c.Receiver_ID\n",
        "JOIN Food_Listings fl ON fl.Food_ID = c.Food_ID\n",
        "GROUP BY r.Receiver_ID, r.Name\n",
        "ORDER BY Avg_Quantity_Claimed DESC;\n",
        "\"\"\"\n",
        "\n",
        "# 12) Which meal type is claimed the most?\n",
        "q12 = \"\"\"\n",
        "SELECT fl.Meal_Type, COUNT(*) AS Claims\n",
        "FROM Claims c\n",
        "JOIN Food_Listings fl ON fl.Food_ID = c.Food_ID\n",
        "GROUP BY fl.Meal_Type\n",
        "ORDER BY Claims DESC;\n",
        "\"\"\"\n",
        "\n",
        "# 13) Total quantity of food donated by each provider\n",
        "q13 = \"\"\"\n",
        "SELECT p.Provider_ID, p.Name, SUM(fl.Quantity) AS Total_Donated\n",
        "FROM Food_Listings fl\n",
        "JOIN Providers p ON p.Provider_ID = fl.Provider_ID\n",
        "GROUP BY p.Provider_ID, p.Name\n",
        "ORDER BY Total_Donated DESC;\n",
        "\"\"\"\n",
        "\n",
        "# 14) Monthly trend of claims\n",
        "q14 = \"\"\"\n",
        "SELECT strftime('%Y-%m', Timestamp) AS Month, COUNT(*) AS Claims\n",
        "FROM Claims\n",
        "GROUP BY strftime('%Y-%m', Timestamp)\n",
        "ORDER BY Month;\n",
        "\"\"\"\n",
        "\n",
        "# 15) Top cities by completed claims\n",
        "q15 = \"\"\"\n",
        "SELECT r.City, COUNT(*) AS Completed_Claims\n",
        "FROM Claims c\n",
        "JOIN Receivers r ON r.Receiver_ID = c.Receiver_ID\n",
        "WHERE c.Status = 'Completed'\n",
        "GROUP BY r.City\n",
        "ORDER BY Completed_Claims DESC;\n",
        "\"\"\"\n",
        "\n",
        "queries = [q1,q2,q3,q4,q5,q6,q7,q8,q9,q10,q11,q12,q13,q14,q15]\n",
        "results = [run(q) for q in queries]\n",
        "results[:15]  # preview first 3 results\n"
      ],
      "metadata": {
        "id": "vCIITf_jRPwZ"
      },
      "execution_count": null,
      "outputs": []
    },
    {
      "cell_type": "code",
      "source": [
        "import pandas as pd\n",
        "\n",
        "def run(q):\n",
        "    return pd.read_sql(q, conn)\n",
        "\n",
        "queries = {\n",
        "    \"Q1: How many food providers and receivers are there in each city?\": q1,\n",
        "    \"Q2: Which provider type contributes the most food (by quantity)?\": q2,\n",
        "    \"Q3: Contact information of food providers in a specific city (e.g., Mumbai)\": q3,\n",
        "    \"Q4: Which receivers have claimed the most food?\": q4,\n",
        "    \"Q5: Total quantity of food available from all providers\": q5,\n",
        "    \"Q6: Which city has the highest number of food listings?\": q6,\n",
        "    \"Q7: Most commonly available food types\": q7,\n",
        "    \"Q8: How many food claims have been made for each food item?\": q8,\n",
        "    \"Q9: Provider with highest number of successful (Completed) claims\": q9,\n",
        "    \"Q10: % of claims by status\": q10,\n",
        "    \"Q11: Average quantity of food claimed per receiver\": q11,\n",
        "    \"Q12: Which meal type is claimed the most?\": q12,\n",
        "    \"Q13: Total quantity of food donated by each provider\": q13,\n",
        "    \"Q14: Monthly trend of claims\": q14,\n",
        "    \"Q15: Top cities by completed claims\": q15\n",
        "}\n",
        "\n",
        "# Run and display each query with heading\n",
        "for question, query in queries.items():\n",
        "    print(\"\\n\" + \"=\"*80)\n",
        "    print(question)\n",
        "    print(\"=\"*80)\n",
        "    result = run(query)\n",
        "    display(result.head(10))  # show top 10 rows for readability\n"
      ],
      "metadata": {
        "id": "agpCgTovS8EY"
      },
      "execution_count": null,
      "outputs": []
    },
    {
      "cell_type": "markdown",
      "source": [
        "#B) Streamlit → show those exact outputs + filters + basic CRUD"
      ],
      "metadata": {
        "id": "tMrQgMakTpkl"
      }
    },
    {
      "cell_type": "markdown",
      "source": [
        "**1.Create the app**"
      ],
      "metadata": {
        "id": "kFEGqfAnTr4O"
      }
    },
    {
      "cell_type": "code",
      "source": [
        "%%writefile app.py\n",
        "import streamlit as st\n",
        "import sqlite3\n",
        "import pandas as pd\n",
        "\n",
        "DB_PATH = \"food.db\"\n",
        "\n",
        "def q(sql):\n",
        "    with sqlite3.connect(DB_PATH) as conn:\n",
        "        return pd.read_sql(sql, conn)\n",
        "\n",
        "st.set_page_config(page_title=\"Local Food Wastage – SQL Explorer\", layout=\"wide\")\n",
        "st.title(\"Local Food Wastage Management – SQL Outputs\")\n",
        "\n",
        "# ---- Filters (for dynamic queries) ----\n",
        "st.sidebar.header(\"Filters\")\n",
        "city = st.sidebar.text_input(\"City filter for Q3\", \"Mumbai\")\n",
        "\n",
        "queries = {\n",
        "\"1) Providers & Receivers per City\":\n",
        "\"\"\"\n",
        "SELECT 'Providers' AS Entity, City, COUNT(*) AS Count FROM Providers GROUP BY City\n",
        "UNION ALL\n",
        "SELECT 'Receivers' AS Entity, City, COUNT(*) AS Count FROM Receivers GROUP BY City\n",
        "ORDER BY Entity, Count DESC;\n",
        "\"\"\",\n",
        "\"2) Provider Type by Total Quantity\":\n",
        "\"\"\"\n",
        "SELECT Provider_Type, SUM(Quantity) AS Total_Quantity\n",
        "FROM Food_Listings\n",
        "GROUP BY Provider_Type\n",
        "ORDER BY Total_Quantity DESC;\n",
        "\"\"\",\n",
        "\"3) Provider Contacts in City\":\n",
        "lambda: f\"SELECT Name, Contact, City FROM Providers WHERE City='{city}';\",\n",
        "\"4) Top Receivers by Claims\":\n",
        "\"\"\"\n",
        "SELECT r.Receiver_ID, r.Name, COUNT(*) AS Total_Claims\n",
        "FROM Claims c JOIN Receivers r ON r.Receiver_ID=c.Receiver_ID\n",
        "GROUP BY r.Receiver_ID, r.Name\n",
        "ORDER BY Total_Claims DESC;\n",
        "\"\"\",\n",
        "\"5) Total Quantity Available\":\n",
        "\"SELECT SUM(Quantity) AS Total_Available_Quantity FROM Food_Listings;\",\n",
        "\"6) City with Most Listings\":\n",
        "\"\"\"\n",
        "SELECT Location AS City, COUNT(*) AS Listings\n",
        "FROM Food_Listings\n",
        "GROUP BY Location\n",
        "ORDER BY Listings DESC;\n",
        "\"\"\",\n",
        "\"7) Most Common Food Types\":\n",
        "\"\"\"\n",
        "SELECT Food_Type, COUNT(*) AS Items\n",
        "FROM Food_Listings\n",
        "GROUP BY Food_Type\n",
        "ORDER BY Items DESC;\n",
        "\"\"\",\n",
        "\"8) Claims per Food Item\":\n",
        "\"\"\"\n",
        "SELECT fl.Food_ID, fl.Food_Name, COUNT(c.Claim_ID) AS Total_Claims\n",
        "FROM Food_Listings fl LEFT JOIN Claims c ON c.Food_ID=fl.Food_ID\n",
        "GROUP BY fl.Food_ID, fl.Food_Name\n",
        "ORDER BY Total_Claims DESC;\n",
        "\"\"\",\n",
        "\"9) Provider with Most Completed Claims\":\n",
        "\"\"\"\n",
        "SELECT p.Provider_ID, p.Name, COUNT(*) AS Completed_Claims\n",
        "FROM Claims c\n",
        "JOIN Food_Listings fl ON fl.Food_ID=c.Food_ID\n",
        "JOIN Providers p ON p.Provider_ID=fl.Provider_ID\n",
        "WHERE c.Status='Completed'\n",
        "GROUP BY p.Provider_ID, p.Name\n",
        "ORDER BY Completed_Claims DESC LIMIT 1;\n",
        "\"\"\",\n",
        "\"10) % Claims by Status\":\n",
        "\"\"\"\n",
        "WITH t AS (SELECT COUNT(*) AS all_rows FROM Claims)\n",
        "SELECT Status, ROUND(100.0*COUNT(*)/(SELECT all_rows FROM t),2) AS Percentage\n",
        "FROM Claims GROUP BY Status ORDER BY Percentage DESC;\n",
        "\"\"\",\n",
        "\"11) Avg Quantity Claimed per Receiver\":\n",
        "\"\"\"\n",
        "SELECT r.Receiver_ID, r.Name, AVG(fl.Quantity) AS Avg_Quantity_Claimed\n",
        "FROM Claims c JOIN Receivers r ON r.Receiver_ID=c.Receiver_ID\n",
        "JOIN Food_Listings fl ON fl.Food_ID=c.Food_ID\n",
        "GROUP BY r.Receiver_ID, r.Name\n",
        "ORDER BY Avg_Quantity_Claimed DESC;\n",
        "\"\"\",\n",
        "\"12) Most Claimed Meal Type\":\n",
        "\"\"\"\n",
        "SELECT fl.Meal_Type, COUNT(*) AS Claims\n",
        "FROM Claims c JOIN Food_Listings fl ON fl.Food_ID=c.Food_ID\n",
        "GROUP BY fl.Meal_Type ORDER BY Claims DESC;\n",
        "\"\"\",\n",
        "\"13) Total Quantity Donated by Provider\":\n",
        "\"\"\"\n",
        "SELECT p.Provider_ID, p.Name, SUM(fl.Quantity) AS Total_Donated\n",
        "FROM Food_Listings fl JOIN Providers p ON p.Provider_ID=fl.Provider_ID\n",
        "GROUP BY p.Provider_ID, p.Name ORDER BY Total_Donated DESC;\n",
        "\"\"\",\n",
        "\"14) Monthly Trend of Claims\":\n",
        "\"\"\"\n",
        "SELECT strftime('%Y-%m', Timestamp) AS Month, COUNT(*) AS Claims\n",
        "FROM Claims GROUP BY strftime('%Y-%m', Timestamp) ORDER BY Month;\n",
        "\"\"\",\n",
        "\"15) Top Cities by Completed Claims\":\n",
        "\"\"\"\n",
        "SELECT r.City, COUNT(*) AS Completed_Claims\n",
        "FROM Claims c JOIN Receivers r ON r.Receiver_ID=c.Receiver_ID\n",
        "WHERE c.Status='Completed'\n",
        "GROUP BY r.City ORDER BY Completed_Claims DESC;\n",
        "\"\"\"\n",
        "}\n",
        "\n",
        "st.subheader(\"Select a question\")\n",
        "choice = st.selectbox(\"\", list(queries.keys()))\n",
        "\n",
        "sql = queries[choice]\n",
        "sql = sql() if callable(sql) else sql\n",
        "st.code(sql, language=\"sql\")\n",
        "st.dataframe(q(sql), use_container_width=True)\n",
        "\n",
        "st.markdown(\"---\")\n",
        "st.subheader(\"Quick CRUD\")\n",
        "tab1, tab2, tab3, tab4 = st.tabs([\"Add Provider\",\"Add Receiver\",\"Add Food\",\"Update Claim Status\"])\n",
        "\n",
        "with tab1:\n",
        "    with st.form(\"add_provider\"):\n",
        "        pid = st.number_input(\"Provider_ID\", step=1)\n",
        "        nm  = st.text_input(\"Name\")\n",
        "        typ = st.text_input(\"Type\")\n",
        "        cty = st.text_input(\"City\")\n",
        "        con = st.text_input(\"Contact\")\n",
        "        if st.form_submit_button(\"Insert\"):\n",
        "            with sqlite3.connect(DB_PATH) as c:\n",
        "                c.execute(\"INSERT INTO Providers VALUES (?,?,?,?,?)\",(pid,nm,typ,cty,con))\n",
        "                c.commit()\n",
        "            st.success(\"Provider inserted\")\n",
        "\n",
        "with tab2:\n",
        "    with st.form(\"add_receiver\"):\n",
        "        rid = st.number_input(\"Receiver_ID\", step=1)\n",
        "        nm  = st.text_input(\"Name\", key=\"rname\")\n",
        "        typ = st.text_input(\"Type\", key=\"rtype\")\n",
        "        cty = st.text_input(\"City\", key=\"rcity\")\n",
        "        con = st.text_input(\"Contact\", key=\"rcontact\")\n",
        "        if st.form_submit_button(\"Insert \"):\n",
        "            with sqlite3.connect(DB_PATH) as c:\n",
        "                c.execute(\"INSERT INTO Receivers VALUES (?,?,?,?,?)\",(rid,nm,typ,cty,con))\n",
        "                c.commit()\n",
        "            st.success(\"Receiver inserted\")\n",
        "\n",
        "with tab3:\n",
        "    with st.form(\"add_food\"):\n",
        "        fid = st.number_input(\"Food_ID\", step=1)\n",
        "        fname = st.text_input(\"Food_Name\")\n",
        "        qty   = st.number_input(\"Quantity\", step=1)\n",
        "        exp   = st.text_input(\"Expiry_Date (YYYY-MM-DD)\")\n",
        "        pid   = st.number_input(\"Provider_ID\", step=1, key=\"pfk\")\n",
        "        ptyp  = st.text_input(\"Provider_Type\")\n",
        "        loc   = st.text_input(\"Location\")\n",
        "        ftyp  = st.text_input(\"Food_Type\")\n",
        "        meal  = st.text_input(\"Meal_Type\")\n",
        "        if st.form_submit_button(\"Insert  \"):\n",
        "            with sqlite3.connect(DB_PATH) as c:\n",
        "                c.execute(\"\"\"INSERT INTO Food_Listings\n",
        "                (Food_ID,Food_Name,Quantity,Expiry_Date,Provider_ID,Provider_Type,Location,Food_Type,Meal_Type)\n",
        "                VALUES (?,?,?,?,?,?,?,?,?)\"\"\",(fid,fname,qty,exp,pid,ptyp,loc,ftyp,meal))\n",
        "                c.commit()\n",
        "            st.success(\"Food listing inserted\")\n",
        "\n",
        "with tab4:\n",
        "    with st.form(\"upd_claim\"):\n",
        "        cid = st.number_input(\"Claim_ID\", step=1)\n",
        "        new = st.selectbox(\"New Status\", [\"Pending\",\"Completed\",\"Cancelled\"])\n",
        "        if st.form_submit_button(\"Update\"):\n",
        "            with sqlite3.connect(DB_PATH) as c:\n",
        "                c.execute(\"UPDATE Claims SET Status=? WHERE Claim_ID=?\",(new,cid))\n",
        "                c.commit()\n",
        "            st.success(\"Claim updated\")\n"
      ],
      "metadata": {
        "id": "Fb_y5jFtTxRQ"
      },
      "execution_count": null,
      "outputs": []
    },
    {
      "cell_type": "markdown",
      "source": [
        "\n",
        "## ***6. Conclusion***\n"
      ],
      "metadata": {
        "id": "-FyyNfD_pnEF"
      }
    },
    {
      "cell_type": "markdown",
      "source": [
        "This project successfully demonstrates how data-driven analysis can improve the efficiency of food donation and distribution. By integrating SQL queries, data visualization, and an interactive Streamlit dashboard, we were able to:\n",
        "\n",
        "* Identify top contributing providers and their donation trends.\n",
        "\n",
        "* Track receivers with the highest claims and measure fairness in distribution.\n",
        "\n",
        "* Analyze food availability by type, city, and provider category.\n",
        "\n",
        "* Understand claim outcomes (Completed, Pending, Cancelled) and their percentages.\n",
        "\n",
        "* Visualize demand patterns such as meal types and monthly claim trends.\n",
        "\n",
        "Through this analysis, we gain valuable insights that can help NGOs, providers, and community kitchens:\n",
        "\n",
        "* Reduce food wastage by tracking expiry and demand.\n",
        "\n",
        "* Optimize supply chains by focusing on high-demand cities and food types.\n",
        "\n",
        "* Ensure fair and efficient distribution of food donations.\n",
        "\n",
        "The project highlights how combining SQL + Python + Streamlit creates a scalable and user-friendly system for real-time food donation monitoring. With further improvements (such as predictive analytics for demand forecasting or mobile integration), this solution could significantly support sustainable hunger relief efforts."
      ],
      "metadata": {
        "id": "WIa3w3bDOGub"
      }
    }
  ]
}